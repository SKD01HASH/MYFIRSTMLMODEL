{
 "cells": [
  {
   "cell_type": "markdown",
   "id": "9e62c942",
   "metadata": {
    "papermill": {
     "duration": 0.007238,
     "end_time": "2023-05-19T11:59:54.027664",
     "exception": false,
     "start_time": "2023-05-19T11:59:54.020426",
     "status": "completed"
    },
    "tags": []
   },
   "source": [
    "**This notebook is an exercise in the [Introduction to Machine Learning](https://www.kaggle.com/learn/intro-to-machine-learning) course.  You can reference the tutorial at [this link](https://www.kaggle.com/dansbecker/your-first-machine-learning-model).**\n",
    "\n",
    "---\n"
   ]
  },
  {
   "cell_type": "markdown",
   "id": "c21813a2",
   "metadata": {
    "papermill": {
     "duration": 0.006662,
     "end_time": "2023-05-19T11:59:54.041329",
     "exception": false,
     "start_time": "2023-05-19T11:59:54.034667",
     "status": "completed"
    },
    "tags": []
   },
   "source": [
    "## Recap\n",
    "So far, you have loaded your data and reviewed it with the following code. Run this cell to set up your coding environment where the previous step left off."
   ]
  },
  {
   "cell_type": "code",
   "execution_count": 1,
   "id": "ae1f1d15",
   "metadata": {
    "execution": {
     "iopub.execute_input": "2023-05-19T11:59:54.058592Z",
     "iopub.status.busy": "2023-05-19T11:59:54.058180Z",
     "iopub.status.idle": "2023-05-19T11:59:56.363614Z",
     "shell.execute_reply": "2023-05-19T11:59:56.362245Z"
    },
    "papermill": {
     "duration": 2.317612,
     "end_time": "2023-05-19T11:59:56.366727",
     "exception": false,
     "start_time": "2023-05-19T11:59:54.049115",
     "status": "completed"
    },
    "tags": []
   },
   "outputs": [
    {
     "name": "stderr",
     "output_type": "stream",
     "text": [
      "/opt/conda/lib/python3.10/site-packages/scipy/__init__.py:146: UserWarning: A NumPy version >=1.16.5 and <1.23.0 is required for this version of SciPy (detected version 1.23.5\n",
      "  warnings.warn(f\"A NumPy version >={np_minversion} and <{np_maxversion}\"\n"
     ]
    },
    {
     "name": "stdout",
     "output_type": "stream",
     "text": [
      "Setup Complete\n"
     ]
    }
   ],
   "source": [
    "# Code you have previously used to load data\n",
    "import pandas as pd\n",
    "\n",
    "# Path of the file to read\n",
    "iowa_file_path = '../input/home-data-for-ml-course/train.csv'\n",
    "\n",
    "home_data = pd.read_csv(iowa_file_path)\n",
    "\n",
    "# Set up code checking\n",
    "from learntools.core import binder\n",
    "binder.bind(globals())\n",
    "from learntools.machine_learning.ex3 import *\n",
    "\n",
    "print(\"Setup Complete\")"
   ]
  },
  {
   "cell_type": "markdown",
   "id": "cf17e96a",
   "metadata": {
    "papermill": {
     "duration": 0.00666,
     "end_time": "2023-05-19T11:59:56.380309",
     "exception": false,
     "start_time": "2023-05-19T11:59:56.373649",
     "status": "completed"
    },
    "tags": []
   },
   "source": [
    "# Exercises\n",
    "\n",
    "## Step 1: Specify Prediction Target\n",
    "Select the target variable, which corresponds to the sales price. Save this to a new variable called `y`. You'll need to print a list of the columns to find the name of the column you need.\n"
   ]
  },
  {
   "cell_type": "code",
   "execution_count": 2,
   "id": "77974d11",
   "metadata": {
    "execution": {
     "iopub.execute_input": "2023-05-19T11:59:56.396477Z",
     "iopub.status.busy": "2023-05-19T11:59:56.396031Z",
     "iopub.status.idle": "2023-05-19T11:59:56.404711Z",
     "shell.execute_reply": "2023-05-19T11:59:56.403207Z"
    },
    "papermill": {
     "duration": 0.019965,
     "end_time": "2023-05-19T11:59:56.407566",
     "exception": false,
     "start_time": "2023-05-19T11:59:56.387601",
     "status": "completed"
    },
    "tags": []
   },
   "outputs": [
    {
     "name": "stdout",
     "output_type": "stream",
     "text": [
      "Index(['Id', 'MSSubClass', 'MSZoning', 'LotFrontage', 'LotArea', 'Street',\n",
      "       'Alley', 'LotShape', 'LandContour', 'Utilities', 'LotConfig',\n",
      "       'LandSlope', 'Neighborhood', 'Condition1', 'Condition2', 'BldgType',\n",
      "       'HouseStyle', 'OverallQual', 'OverallCond', 'YearBuilt', 'YearRemodAdd',\n",
      "       'RoofStyle', 'RoofMatl', 'Exterior1st', 'Exterior2nd', 'MasVnrType',\n",
      "       'MasVnrArea', 'ExterQual', 'ExterCond', 'Foundation', 'BsmtQual',\n",
      "       'BsmtCond', 'BsmtExposure', 'BsmtFinType1', 'BsmtFinSF1',\n",
      "       'BsmtFinType2', 'BsmtFinSF2', 'BsmtUnfSF', 'TotalBsmtSF', 'Heating',\n",
      "       'HeatingQC', 'CentralAir', 'Electrical', '1stFlrSF', '2ndFlrSF',\n",
      "       'LowQualFinSF', 'GrLivArea', 'BsmtFullBath', 'BsmtHalfBath', 'FullBath',\n",
      "       'HalfBath', 'BedroomAbvGr', 'KitchenAbvGr', 'KitchenQual',\n",
      "       'TotRmsAbvGrd', 'Functional', 'Fireplaces', 'FireplaceQu', 'GarageType',\n",
      "       'GarageYrBlt', 'GarageFinish', 'GarageCars', 'GarageArea', 'GarageQual',\n",
      "       'GarageCond', 'PavedDrive', 'WoodDeckSF', 'OpenPorchSF',\n",
      "       'EnclosedPorch', '3SsnPorch', 'ScreenPorch', 'PoolArea', 'PoolQC',\n",
      "       'Fence', 'MiscFeature', 'MiscVal', 'MoSold', 'YrSold', 'SaleType',\n",
      "       'SaleCondition', 'SalePrice'],\n",
      "      dtype='object')\n"
     ]
    }
   ],
   "source": [
    "# print the list of columns in the dataset to find the name of the prediction target\n",
    "print(home_data.columns)"
   ]
  },
  {
   "cell_type": "code",
   "execution_count": 3,
   "id": "fa84b0d6",
   "metadata": {
    "execution": {
     "iopub.execute_input": "2023-05-19T11:59:56.425592Z",
     "iopub.status.busy": "2023-05-19T11:59:56.424789Z",
     "iopub.status.idle": "2023-05-19T11:59:56.442794Z",
     "shell.execute_reply": "2023-05-19T11:59:56.441423Z"
    },
    "papermill": {
     "duration": 0.030896,
     "end_time": "2023-05-19T11:59:56.445618",
     "exception": false,
     "start_time": "2023-05-19T11:59:56.414722",
     "status": "completed"
    },
    "tags": []
   },
   "outputs": [
    {
     "data": {
      "application/javascript": [
       "parent.postMessage({\"jupyterEvent\": \"custom.exercise_interaction\", \"data\": {\"outcomeType\": 1, \"valueTowardsCompletion\": 0.25, \"interactionType\": 1, \"questionType\": 2, \"questionId\": \"1_SetTarget\", \"learnToolsVersion\": \"0.3.4\", \"failureMessage\": \"\", \"exceptionClass\": \"\", \"trace\": \"\"}}, \"*\")"
      ],
      "text/plain": [
       "<IPython.core.display.Javascript object>"
      ]
     },
     "metadata": {},
     "output_type": "display_data"
    },
    {
     "data": {
      "text/markdown": [
       "<span style=\"color:#33cc33\">Correct</span>"
      ],
      "text/plain": [
       "Correct"
      ]
     },
     "metadata": {},
     "output_type": "display_data"
    }
   ],
   "source": [
    "y = home_data['SalePrice']\n",
    "\n",
    "# Check your answer\n",
    "step_1.check()"
   ]
  },
  {
   "cell_type": "code",
   "execution_count": 4,
   "id": "95d3cc6a",
   "metadata": {
    "collapsed": true,
    "execution": {
     "iopub.execute_input": "2023-05-19T11:59:56.462965Z",
     "iopub.status.busy": "2023-05-19T11:59:56.462529Z",
     "iopub.status.idle": "2023-05-19T11:59:56.467835Z",
     "shell.execute_reply": "2023-05-19T11:59:56.466525Z"
    },
    "jupyter": {
     "outputs_hidden": true
    },
    "papermill": {
     "duration": 0.016732,
     "end_time": "2023-05-19T11:59:56.470447",
     "exception": false,
     "start_time": "2023-05-19T11:59:56.453715",
     "status": "completed"
    },
    "tags": []
   },
   "outputs": [],
   "source": [
    "# The lines below will show you a hint or the solution.\n",
    "# step_1.hint() \n",
    "# step_1.solution()"
   ]
  },
  {
   "cell_type": "markdown",
   "id": "8ce45996",
   "metadata": {
    "papermill": {
     "duration": 0.007244,
     "end_time": "2023-05-19T11:59:56.485567",
     "exception": false,
     "start_time": "2023-05-19T11:59:56.478323",
     "status": "completed"
    },
    "tags": []
   },
   "source": [
    "## Step 2: Create X\n",
    "Now you will create a DataFrame called `X` holding the predictive features.\n",
    "\n",
    "Since you want only some columns from the original data, you'll first create a list with the names of the columns you want in `X`.\n",
    "\n",
    "You'll use just the following columns in the list (you can copy and paste the whole list to save some typing, though you'll still need to add quotes):\n",
    "  * LotArea\n",
    "  * YearBuilt\n",
    "  * 1stFlrSF\n",
    "  * 2ndFlrSF\n",
    "  * FullBath\n",
    "  * BedroomAbvGr\n",
    "  * TotRmsAbvGrd\n",
    "\n",
    "After you've created that list of features, use it to create the DataFrame that you'll use to fit the model."
   ]
  },
  {
   "cell_type": "code",
   "execution_count": 5,
   "id": "ab20d10d",
   "metadata": {
    "execution": {
     "iopub.execute_input": "2023-05-19T11:59:56.503327Z",
     "iopub.status.busy": "2023-05-19T11:59:56.502105Z",
     "iopub.status.idle": "2023-05-19T11:59:56.520692Z",
     "shell.execute_reply": "2023-05-19T11:59:56.519672Z"
    },
    "papermill": {
     "duration": 0.030257,
     "end_time": "2023-05-19T11:59:56.523291",
     "exception": false,
     "start_time": "2023-05-19T11:59:56.493034",
     "status": "completed"
    },
    "tags": []
   },
   "outputs": [
    {
     "data": {
      "application/javascript": [
       "parent.postMessage({\"jupyterEvent\": \"custom.exercise_interaction\", \"data\": {\"outcomeType\": 1, \"valueTowardsCompletion\": 0.25, \"interactionType\": 1, \"questionType\": 2, \"questionId\": \"2_SelectPredictionData\", \"learnToolsVersion\": \"0.3.4\", \"failureMessage\": \"\", \"exceptionClass\": \"\", \"trace\": \"\"}}, \"*\")"
      ],
      "text/plain": [
       "<IPython.core.display.Javascript object>"
      ]
     },
     "metadata": {},
     "output_type": "display_data"
    },
    {
     "data": {
      "text/markdown": [
       "<span style=\"color:#33cc33\">Correct</span>"
      ],
      "text/plain": [
       "Correct"
      ]
     },
     "metadata": {},
     "output_type": "display_data"
    }
   ],
   "source": [
    "# Create the list of features below\n",
    "feature_names = ['LotArea', 'YearBuilt', '1stFlrSF', '2ndFlrSF', 'FullBath', 'BedroomAbvGr', 'TotRmsAbvGrd']\n",
    "\n",
    "\n",
    "# Select data corresponding to features in feature_names\n",
    "X = home_data[feature_names]\n",
    "\n",
    "# Check your answer\n",
    "step_2.check()"
   ]
  },
  {
   "cell_type": "code",
   "execution_count": 6,
   "id": "7f7be9e1",
   "metadata": {
    "collapsed": true,
    "execution": {
     "iopub.execute_input": "2023-05-19T11:59:56.541838Z",
     "iopub.status.busy": "2023-05-19T11:59:56.541152Z",
     "iopub.status.idle": "2023-05-19T11:59:56.545072Z",
     "shell.execute_reply": "2023-05-19T11:59:56.544150Z"
    },
    "jupyter": {
     "outputs_hidden": true
    },
    "papermill": {
     "duration": 0.016285,
     "end_time": "2023-05-19T11:59:56.547418",
     "exception": false,
     "start_time": "2023-05-19T11:59:56.531133",
     "status": "completed"
    },
    "tags": []
   },
   "outputs": [],
   "source": [
    "# step_2.hint()\n",
    "# step_2.solution()"
   ]
  },
  {
   "cell_type": "markdown",
   "id": "6334fbae",
   "metadata": {
    "papermill": {
     "duration": 0.007469,
     "end_time": "2023-05-19T11:59:56.562807",
     "exception": false,
     "start_time": "2023-05-19T11:59:56.555338",
     "status": "completed"
    },
    "tags": []
   },
   "source": [
    "## Review Data\n",
    "Before building a model, take a quick look at **X** to verify it looks sensible"
   ]
  },
  {
   "cell_type": "code",
   "execution_count": 7,
   "id": "4711602c",
   "metadata": {
    "execution": {
     "iopub.execute_input": "2023-05-19T11:59:56.581819Z",
     "iopub.status.busy": "2023-05-19T11:59:56.581119Z",
     "iopub.status.idle": "2023-05-19T11:59:56.630733Z",
     "shell.execute_reply": "2023-05-19T11:59:56.628439Z"
    },
    "papermill": {
     "duration": 0.062988,
     "end_time": "2023-05-19T11:59:56.634504",
     "exception": false,
     "start_time": "2023-05-19T11:59:56.571516",
     "status": "completed"
    },
    "tags": []
   },
   "outputs": [
    {
     "name": "stdout",
     "output_type": "stream",
     "text": [
      "             LotArea    YearBuilt     1stFlrSF     2ndFlrSF     FullBath  \\\n",
      "count    1460.000000  1460.000000  1460.000000  1460.000000  1460.000000   \n",
      "mean    10516.828082  1971.267808  1162.626712   346.992466     1.565068   \n",
      "std      9981.264932    30.202904   386.587738   436.528436     0.550916   \n",
      "min      1300.000000  1872.000000   334.000000     0.000000     0.000000   \n",
      "25%      7553.500000  1954.000000   882.000000     0.000000     1.000000   \n",
      "50%      9478.500000  1973.000000  1087.000000     0.000000     2.000000   \n",
      "75%     11601.500000  2000.000000  1391.250000   728.000000     2.000000   \n",
      "max    215245.000000  2010.000000  4692.000000  2065.000000     3.000000   \n",
      "\n",
      "       BedroomAbvGr  TotRmsAbvGrd  \n",
      "count   1460.000000   1460.000000  \n",
      "mean       2.866438      6.517808  \n",
      "std        0.815778      1.625393  \n",
      "min        0.000000      2.000000  \n",
      "25%        2.000000      5.000000  \n",
      "50%        3.000000      6.000000  \n",
      "75%        3.000000      7.000000  \n",
      "max        8.000000     14.000000  \n",
      "   LotArea  YearBuilt  1stFlrSF  2ndFlrSF  FullBath  BedroomAbvGr  \\\n",
      "0     8450       2003       856       854         2             3   \n",
      "1     9600       1976      1262         0         2             3   \n",
      "2    11250       2001       920       866         2             3   \n",
      "3     9550       1915       961       756         1             3   \n",
      "4    14260       2000      1145      1053         2             4   \n",
      "\n",
      "   TotRmsAbvGrd  \n",
      "0             8  \n",
      "1             6  \n",
      "2             6  \n",
      "3             7  \n",
      "4             9  \n"
     ]
    }
   ],
   "source": [
    "# Review data\n",
    "# print description or statistics from X\n",
    "#print(_)\n",
    "print(X.describe())\n",
    "\n",
    "# Print the top few lines\n",
    "print(X.head())\n"
   ]
  },
  {
   "cell_type": "markdown",
   "id": "c31dccc8",
   "metadata": {
    "papermill": {
     "duration": 0.008576,
     "end_time": "2023-05-19T11:59:56.651520",
     "exception": false,
     "start_time": "2023-05-19T11:59:56.642944",
     "status": "completed"
    },
    "tags": []
   },
   "source": [
    "## Step 3: Specify and Fit Model\n",
    "Create a `DecisionTreeRegressor` and save it iowa_model. Ensure you've done the relevant import from sklearn to run this command.\n",
    "\n",
    "Then fit the model you just created using the data in `X` and `y` that you saved above."
   ]
  },
  {
   "cell_type": "code",
   "execution_count": 8,
   "id": "7c1f666d",
   "metadata": {
    "execution": {
     "iopub.execute_input": "2023-05-19T11:59:56.671328Z",
     "iopub.status.busy": "2023-05-19T11:59:56.670653Z",
     "iopub.status.idle": "2023-05-19T11:59:56.697130Z",
     "shell.execute_reply": "2023-05-19T11:59:56.695757Z"
    },
    "papermill": {
     "duration": 0.040218,
     "end_time": "2023-05-19T11:59:56.700473",
     "exception": false,
     "start_time": "2023-05-19T11:59:56.660255",
     "status": "completed"
    },
    "tags": []
   },
   "outputs": [
    {
     "data": {
      "application/javascript": [
       "parent.postMessage({\"jupyterEvent\": \"custom.exercise_interaction\", \"data\": {\"outcomeType\": 1, \"valueTowardsCompletion\": 0.25, \"interactionType\": 1, \"questionType\": 2, \"questionId\": \"3_CreateModel\", \"learnToolsVersion\": \"0.3.4\", \"failureMessage\": \"\", \"exceptionClass\": \"\", \"trace\": \"\"}}, \"*\")"
      ],
      "text/plain": [
       "<IPython.core.display.Javascript object>"
      ]
     },
     "metadata": {},
     "output_type": "display_data"
    },
    {
     "data": {
      "text/markdown": [
       "<span style=\"color:#33cc33\">Correct</span>"
      ],
      "text/plain": [
       "Correct"
      ]
     },
     "metadata": {},
     "output_type": "display_data"
    }
   ],
   "source": [
    "# from _ import _\n",
    "#specify the model. \n",
    "#For model reproducibility, set a numeric value for random_state when specifying the model\n",
    "from sklearn.tree import DecisionTreeRegressor\n",
    "\n",
    "# Specify the model and set a numeric value for random_state for reproducibility\n",
    "iowa_model = DecisionTreeRegressor(random_state=1)\n",
    "\n",
    "# Fit the model\n",
    "iowa_model.fit(X, y)\n",
    "\n",
    "\n",
    "\n",
    "\n",
    "# Check your answer\n",
    "step_3.check()"
   ]
  },
  {
   "cell_type": "code",
   "execution_count": 9,
   "id": "634ce37d",
   "metadata": {
    "collapsed": true,
    "execution": {
     "iopub.execute_input": "2023-05-19T11:59:56.721197Z",
     "iopub.status.busy": "2023-05-19T11:59:56.719973Z",
     "iopub.status.idle": "2023-05-19T11:59:56.726324Z",
     "shell.execute_reply": "2023-05-19T11:59:56.724598Z"
    },
    "jupyter": {
     "outputs_hidden": true
    },
    "papermill": {
     "duration": 0.020564,
     "end_time": "2023-05-19T11:59:56.729924",
     "exception": false,
     "start_time": "2023-05-19T11:59:56.709360",
     "status": "completed"
    },
    "tags": []
   },
   "outputs": [],
   "source": [
    "# step_3.hint()\n",
    "# step_3.solution()"
   ]
  },
  {
   "cell_type": "markdown",
   "id": "55201b33",
   "metadata": {
    "papermill": {
     "duration": 0.008847,
     "end_time": "2023-05-19T11:59:56.748650",
     "exception": false,
     "start_time": "2023-05-19T11:59:56.739803",
     "status": "completed"
    },
    "tags": []
   },
   "source": [
    "## Step 4: Make Predictions\n",
    "Make predictions with the model's `predict` command using `X` as the data. Save the results to a variable called `predictions`."
   ]
  },
  {
   "cell_type": "code",
   "execution_count": 10,
   "id": "8199b064",
   "metadata": {
    "execution": {
     "iopub.execute_input": "2023-05-19T11:59:56.769827Z",
     "iopub.status.busy": "2023-05-19T11:59:56.768255Z",
     "iopub.status.idle": "2023-05-19T11:59:56.786919Z",
     "shell.execute_reply": "2023-05-19T11:59:56.785466Z"
    },
    "papermill": {
     "duration": 0.032248,
     "end_time": "2023-05-19T11:59:56.789739",
     "exception": false,
     "start_time": "2023-05-19T11:59:56.757491",
     "status": "completed"
    },
    "tags": []
   },
   "outputs": [
    {
     "name": "stdout",
     "output_type": "stream",
     "text": [
      "[208500. 181500. 223500. ... 266500. 142125. 147500.]\n"
     ]
    },
    {
     "data": {
      "application/javascript": [
       "parent.postMessage({\"jupyterEvent\": \"custom.exercise_interaction\", \"data\": {\"outcomeType\": 1, \"valueTowardsCompletion\": 0.25, \"interactionType\": 1, \"questionType\": 2, \"questionId\": \"4_MakePredictions\", \"learnToolsVersion\": \"0.3.4\", \"failureMessage\": \"\", \"exceptionClass\": \"\", \"trace\": \"\"}}, \"*\")"
      ],
      "text/plain": [
       "<IPython.core.display.Javascript object>"
      ]
     },
     "metadata": {},
     "output_type": "display_data"
    },
    {
     "data": {
      "text/markdown": [
       "<span style=\"color:#33cc33\">Correct</span>"
      ],
      "text/plain": [
       "Correct"
      ]
     },
     "metadata": {},
     "output_type": "display_data"
    }
   ],
   "source": [
    "predictions = iowa_model.predict(X)\n",
    "print(predictions)\n",
    "\n",
    "# Check your answer\n",
    "step_4.check()"
   ]
  },
  {
   "cell_type": "code",
   "execution_count": 11,
   "id": "aab208f4",
   "metadata": {
    "collapsed": true,
    "execution": {
     "iopub.execute_input": "2023-05-19T11:59:56.810401Z",
     "iopub.status.busy": "2023-05-19T11:59:56.809874Z",
     "iopub.status.idle": "2023-05-19T11:59:56.815070Z",
     "shell.execute_reply": "2023-05-19T11:59:56.813832Z"
    },
    "jupyter": {
     "outputs_hidden": true
    },
    "papermill": {
     "duration": 0.019008,
     "end_time": "2023-05-19T11:59:56.817918",
     "exception": false,
     "start_time": "2023-05-19T11:59:56.798910",
     "status": "completed"
    },
    "tags": []
   },
   "outputs": [],
   "source": [
    "# step_4.hint()\n",
    "# step_4.solution()"
   ]
  },
  {
   "cell_type": "markdown",
   "id": "2406a4db",
   "metadata": {
    "papermill": {
     "duration": 0.009966,
     "end_time": "2023-05-19T11:59:56.837972",
     "exception": false,
     "start_time": "2023-05-19T11:59:56.828006",
     "status": "completed"
    },
    "tags": []
   },
   "source": [
    "## Think About Your Results\n",
    "\n",
    "Use the `head` method to compare the top few predictions to the actual home values (in `y`) for those same homes. Anything surprising?\n"
   ]
  },
  {
   "cell_type": "code",
   "execution_count": 12,
   "id": "06e17105",
   "metadata": {
    "execution": {
     "iopub.execute_input": "2023-05-19T11:59:56.858892Z",
     "iopub.status.busy": "2023-05-19T11:59:56.857929Z",
     "iopub.status.idle": "2023-05-19T11:59:56.869077Z",
     "shell.execute_reply": "2023-05-19T11:59:56.867015Z"
    },
    "papermill": {
     "duration": 0.024465,
     "end_time": "2023-05-19T11:59:56.871784",
     "exception": false,
     "start_time": "2023-05-19T11:59:56.847319",
     "status": "completed"
    },
    "tags": []
   },
   "outputs": [
    {
     "name": "stdout",
     "output_type": "stream",
     "text": [
      "   LotArea  YearBuilt  1stFlrSF  2ndFlrSF  FullBath  BedroomAbvGr  \\\n",
      "0     8450       2003       856       854         2             3   \n",
      "1     9600       1976      1262         0         2             3   \n",
      "2    11250       2001       920       866         2             3   \n",
      "3     9550       1915       961       756         1             3   \n",
      "4    14260       2000      1145      1053         2             4   \n",
      "\n",
      "   TotRmsAbvGrd  \n",
      "0             8  \n",
      "1             6  \n",
      "2             6  \n",
      "3             7  \n",
      "4             9  \n",
      "0    208500\n",
      "1    181500\n",
      "2    223500\n",
      "3    140000\n",
      "4    250000\n",
      "Name: SalePrice, dtype: int64\n"
     ]
    }
   ],
   "source": [
    "# You can write code in this cell\n",
    "print(X.head())\n",
    "print(y.head())\n",
    "\n"
   ]
  },
  {
   "cell_type": "markdown",
   "id": "7cfd1889",
   "metadata": {
    "papermill": {
     "duration": 0.009334,
     "end_time": "2023-05-19T11:59:56.890453",
     "exception": false,
     "start_time": "2023-05-19T11:59:56.881119",
     "status": "completed"
    },
    "tags": []
   },
   "source": [
    "It's natural to ask how accurate the model's predictions will be and how you can improve that. That will be you're next step.\n",
    "\n",
    "# Keep Going\n",
    "\n",
    "You are ready for **[Model Validation](https://www.kaggle.com/dansbecker/model-validation).**\n"
   ]
  },
  {
   "cell_type": "markdown",
   "id": "b052932b",
   "metadata": {
    "papermill": {
     "duration": 0.009459,
     "end_time": "2023-05-19T11:59:56.908898",
     "exception": false,
     "start_time": "2023-05-19T11:59:56.899439",
     "status": "completed"
    },
    "tags": []
   },
   "source": [
    "---\n",
    "\n",
    "\n",
    "\n",
    "\n",
    "*Have questions or comments? Visit the [course discussion forum](https://www.kaggle.com/learn/intro-to-machine-learning/discussion) to chat with other learners.*"
   ]
  }
 ],
 "metadata": {
  "kernelspec": {
   "display_name": "Python 3",
   "language": "python",
   "name": "python3"
  },
  "language_info": {
   "codemirror_mode": {
    "name": "ipython",
    "version": 3
   },
   "file_extension": ".py",
   "mimetype": "text/x-python",
   "name": "python",
   "nbconvert_exporter": "python",
   "pygments_lexer": "ipython3",
   "version": "3.10.10"
  },
  "papermill": {
   "default_parameters": {},
   "duration": 22.319076,
   "end_time": "2023-05-19T11:59:58.042390",
   "environment_variables": {},
   "exception": null,
   "input_path": "__notebook__.ipynb",
   "output_path": "__notebook__.ipynb",
   "parameters": {},
   "start_time": "2023-05-19T11:59:35.723314",
   "version": "2.4.0"
  }
 },
 "nbformat": 4,
 "nbformat_minor": 5
}
