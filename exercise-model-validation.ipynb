{
 "cells": [
  {
   "cell_type": "markdown",
   "id": "ad58562c",
   "metadata": {
    "papermill": {
     "duration": 0.005751,
     "end_time": "2023-05-20T16:06:22.715173",
     "exception": false,
     "start_time": "2023-05-20T16:06:22.709422",
     "status": "completed"
    },
    "tags": []
   },
   "source": [
    "**This notebook is an exercise in the [Introduction to Machine Learning](https://www.kaggle.com/learn/intro-to-machine-learning) course.  You can reference the tutorial at [this link](https://www.kaggle.com/dansbecker/model-validation).**\n",
    "\n",
    "---\n"
   ]
  },
  {
   "cell_type": "markdown",
   "id": "ab234655",
   "metadata": {
    "papermill": {
     "duration": 0.004955,
     "end_time": "2023-05-20T16:06:22.725930",
     "exception": false,
     "start_time": "2023-05-20T16:06:22.720975",
     "status": "completed"
    },
    "tags": []
   },
   "source": [
    "## Recap\n",
    "You've built a model. In this exercise you will test how good your model is.\n",
    "\n",
    "Run the cell below to set up your coding environment where the previous exercise left off."
   ]
  },
  {
   "cell_type": "code",
   "execution_count": 1,
   "id": "09b330f3",
   "metadata": {
    "execution": {
     "iopub.execute_input": "2023-05-20T16:06:22.738284Z",
     "iopub.status.busy": "2023-05-20T16:06:22.737630Z",
     "iopub.status.idle": "2023-05-20T16:06:24.360174Z",
     "shell.execute_reply": "2023-05-20T16:06:24.358905Z"
    },
    "papermill": {
     "duration": 1.63162,
     "end_time": "2023-05-20T16:06:24.362680",
     "exception": false,
     "start_time": "2023-05-20T16:06:22.731060",
     "status": "completed"
    },
    "tags": []
   },
   "outputs": [
    {
     "name": "stderr",
     "output_type": "stream",
     "text": [
      "/opt/conda/lib/python3.10/site-packages/scipy/__init__.py:146: UserWarning: A NumPy version >=1.16.5 and <1.23.0 is required for this version of SciPy (detected version 1.23.5\n",
      "  warnings.warn(f\"A NumPy version >={np_minversion} and <{np_maxversion}\"\n"
     ]
    },
    {
     "name": "stdout",
     "output_type": "stream",
     "text": [
      "First in-sample predictions: [208500. 181500. 223500. 140000. 250000.]\n",
      "Actual target values for those homes: [208500, 181500, 223500, 140000, 250000]\n",
      "Setup Complete\n"
     ]
    }
   ],
   "source": [
    "# Code you have previously used to load data\n",
    "import pandas as pd\n",
    "from sklearn.tree import DecisionTreeRegressor\n",
    "\n",
    "# Path of the file to read\n",
    "iowa_file_path = '../input/home-data-for-ml-course/train.csv'\n",
    "\n",
    "home_data = pd.read_csv(iowa_file_path)\n",
    "y = home_data.SalePrice\n",
    "feature_columns = ['LotArea', 'YearBuilt', '1stFlrSF', '2ndFlrSF', 'FullBath', 'BedroomAbvGr', 'TotRmsAbvGrd']\n",
    "X = home_data[feature_columns]\n",
    "\n",
    "# Specify Model\n",
    "iowa_model = DecisionTreeRegressor()\n",
    "# Fit Model\n",
    "iowa_model.fit(X, y)\n",
    "\n",
    "print(\"First in-sample predictions:\", iowa_model.predict(X.head()))\n",
    "print(\"Actual target values for those homes:\", y.head().tolist())\n",
    "\n",
    "# Set up code checking\n",
    "from learntools.core import binder\n",
    "binder.bind(globals())\n",
    "from learntools.machine_learning.ex4 import *\n",
    "print(\"Setup Complete\")"
   ]
  },
  {
   "cell_type": "markdown",
   "id": "9e1f70ec",
   "metadata": {
    "papermill": {
     "duration": 0.005479,
     "end_time": "2023-05-20T16:06:24.373712",
     "exception": false,
     "start_time": "2023-05-20T16:06:24.368233",
     "status": "completed"
    },
    "tags": []
   },
   "source": [
    "# Exercises\n",
    "\n",
    "## Step 1: Split Your Data\n",
    "Use the `train_test_split` function to split up your data.\n",
    "\n",
    "Give it the argument `random_state=1` so the `check` functions know what to expect when verifying your code.\n",
    "\n",
    "Recall, your features are loaded in the DataFrame **X** and your target is loaded in **y**.\n"
   ]
  },
  {
   "cell_type": "code",
   "execution_count": 2,
   "id": "702172b2",
   "metadata": {
    "execution": {
     "iopub.execute_input": "2023-05-20T16:06:24.386181Z",
     "iopub.status.busy": "2023-05-20T16:06:24.385782Z",
     "iopub.status.idle": "2023-05-20T16:06:24.400612Z",
     "shell.execute_reply": "2023-05-20T16:06:24.399554Z"
    },
    "papermill": {
     "duration": 0.023584,
     "end_time": "2023-05-20T16:06:24.402715",
     "exception": false,
     "start_time": "2023-05-20T16:06:24.379131",
     "status": "completed"
    },
    "tags": []
   },
   "outputs": [
    {
     "data": {
      "application/javascript": [
       "parent.postMessage({\"jupyterEvent\": \"custom.exercise_interaction\", \"data\": {\"outcomeType\": 2, \"failureMessage\": \"Expected `train_X` to have shape (1095, 7). Your code produced `train_X` with shape (1241, 7).\", \"interactionType\": 1, \"questionType\": 2, \"questionId\": \"1_SplitData\", \"learnToolsVersion\": \"0.3.4\", \"valueTowardsCompletion\": 0.0, \"exceptionClass\": \"\", \"trace\": \"\"}}, \"*\")"
      ],
      "text/plain": [
       "<IPython.core.display.Javascript object>"
      ]
     },
     "metadata": {},
     "output_type": "display_data"
    },
    {
     "data": {
      "text/markdown": [
       "<span style=\"color:#cc3333\">Incorrect:</span> Expected `train_X` to have shape (1095, 7). Your code produced `train_X` with shape (1241, 7)."
      ],
      "text/plain": [
       "Incorrect: Expected `train_X` to have shape (1095, 7). Your code produced `train_X` with shape (1241, 7)."
      ]
     },
     "metadata": {},
     "output_type": "display_data"
    }
   ],
   "source": [
    "from sklearn.model_selection import train_test_split\n",
    "\n",
    "# Split the data into training and validation sets\n",
    "train_X, val_X, train_y, val_y = train_test_split(X, y, test_size=0.15, random_state=1)\n",
    "\n",
    "\n",
    "# Check your answer\n",
    "step_1.check()"
   ]
  },
  {
   "cell_type": "code",
   "execution_count": 3,
   "id": "d9f1853c",
   "metadata": {
    "execution": {
     "iopub.execute_input": "2023-05-20T16:06:24.415781Z",
     "iopub.status.busy": "2023-05-20T16:06:24.415410Z",
     "iopub.status.idle": "2023-05-20T16:06:24.419338Z",
     "shell.execute_reply": "2023-05-20T16:06:24.418197Z"
    },
    "papermill": {
     "duration": 0.013008,
     "end_time": "2023-05-20T16:06:24.421515",
     "exception": false,
     "start_time": "2023-05-20T16:06:24.408507",
     "status": "completed"
    },
    "tags": []
   },
   "outputs": [],
   "source": [
    "# The lines below will show you a hint or the solution.\n",
    "# step_1.hint() \n",
    "# step_1.solution()\n"
   ]
  },
  {
   "cell_type": "markdown",
   "id": "0c7d4f2e",
   "metadata": {
    "papermill": {
     "duration": 0.005465,
     "end_time": "2023-05-20T16:06:24.432846",
     "exception": false,
     "start_time": "2023-05-20T16:06:24.427381",
     "status": "completed"
    },
    "tags": []
   },
   "source": [
    "## Step 2: Specify and Fit the Model\n",
    "\n",
    "Create a `DecisionTreeRegressor` model and fit it to the relevant data.\n",
    "Set `random_state` to 1 again when creating the model."
   ]
  },
  {
   "cell_type": "code",
   "execution_count": 4,
   "id": "7aff268d",
   "metadata": {
    "execution": {
     "iopub.execute_input": "2023-05-20T16:06:24.446576Z",
     "iopub.status.busy": "2023-05-20T16:06:24.445825Z",
     "iopub.status.idle": "2023-05-20T16:06:24.455264Z",
     "shell.execute_reply": "2023-05-20T16:06:24.454179Z"
    },
    "papermill": {
     "duration": 0.018832,
     "end_time": "2023-05-20T16:06:24.457526",
     "exception": false,
     "start_time": "2023-05-20T16:06:24.438694",
     "status": "completed"
    },
    "tags": []
   },
   "outputs": [
    {
     "data": {
      "application/javascript": [
       "parent.postMessage({\"jupyterEvent\": \"custom.exercise_interaction\", \"data\": {\"outcomeType\": 4, \"interactionType\": 1, \"questionType\": 2, \"questionId\": \"2_FitModelWithTrain\", \"learnToolsVersion\": \"0.3.4\", \"valueTowardsCompletion\": 0.0, \"failureMessage\": \"\", \"exceptionClass\": \"\", \"trace\": \"\"}}, \"*\")"
      ],
      "text/plain": [
       "<IPython.core.display.Javascript object>"
      ]
     },
     "metadata": {},
     "output_type": "display_data"
    },
    {
     "data": {
      "text/markdown": [
       "<span style=\"color:#ccaa33\">Check:</span> When you've updated the starter code, `check()` will tell you whether your code is correct. You need to update the code that creates variables `iowa_model`, `train_X`, `train_y`, `val_X`"
      ],
      "text/plain": [
       "Check: When you've updated the starter code, `check()` will tell you whether your code is correct. You need to update the code that creates variables `iowa_model`, `train_X`, `train_y`, `val_X`"
      ]
     },
     "metadata": {},
     "output_type": "display_data"
    }
   ],
   "source": [
    "# You imported DecisionTreeRegressor in your last exercise\n",
    "# and that code has been copied to the setup code above. So, no need to\n",
    "# import it again\n",
    "\n",
    "# Specify the model\n",
    "iowa_model = ____\n",
    "\n",
    "# Fit iowa_model with the training data.\n",
    "____\n",
    "\n",
    "# Check your answer\n",
    "step_2.check()"
   ]
  },
  {
   "cell_type": "code",
   "execution_count": 5,
   "id": "d6d7e2af",
   "metadata": {
    "execution": {
     "iopub.execute_input": "2023-05-20T16:06:24.471819Z",
     "iopub.status.busy": "2023-05-20T16:06:24.471431Z",
     "iopub.status.idle": "2023-05-20T16:06:24.475947Z",
     "shell.execute_reply": "2023-05-20T16:06:24.474874Z"
    },
    "papermill": {
     "duration": 0.014397,
     "end_time": "2023-05-20T16:06:24.478223",
     "exception": false,
     "start_time": "2023-05-20T16:06:24.463826",
     "status": "completed"
    },
    "tags": []
   },
   "outputs": [],
   "source": [
    "# step_2.hint()\n",
    "# step_2.solution()"
   ]
  },
  {
   "cell_type": "markdown",
   "id": "24195ffb",
   "metadata": {
    "papermill": {
     "duration": 0.005978,
     "end_time": "2023-05-20T16:06:24.490596",
     "exception": false,
     "start_time": "2023-05-20T16:06:24.484618",
     "status": "completed"
    },
    "tags": []
   },
   "source": [
    "## Step 3: Make Predictions with Validation data\n"
   ]
  },
  {
   "cell_type": "code",
   "execution_count": 6,
   "id": "a2dce55c",
   "metadata": {
    "execution": {
     "iopub.execute_input": "2023-05-20T16:06:24.504987Z",
     "iopub.status.busy": "2023-05-20T16:06:24.504565Z",
     "iopub.status.idle": "2023-05-20T16:06:24.513079Z",
     "shell.execute_reply": "2023-05-20T16:06:24.511981Z"
    },
    "papermill": {
     "duration": 0.018516,
     "end_time": "2023-05-20T16:06:24.515411",
     "exception": false,
     "start_time": "2023-05-20T16:06:24.496895",
     "status": "completed"
    },
    "tags": []
   },
   "outputs": [
    {
     "data": {
      "application/javascript": [
       "parent.postMessage({\"jupyterEvent\": \"custom.exercise_interaction\", \"data\": {\"outcomeType\": 4, \"interactionType\": 1, \"questionType\": 2, \"questionId\": \"3_ValPreds\", \"learnToolsVersion\": \"0.3.4\", \"valueTowardsCompletion\": 0.0, \"failureMessage\": \"\", \"exceptionClass\": \"\", \"trace\": \"\"}}, \"*\")"
      ],
      "text/plain": [
       "<IPython.core.display.Javascript object>"
      ]
     },
     "metadata": {},
     "output_type": "display_data"
    },
    {
     "data": {
      "text/markdown": [
       "<span style=\"color:#ccaa33\">Check:</span> When you've updated the starter code, `check()` will tell you whether your code is correct. You need to update the code that creates variables `val_predictions`, `iowa_model`, `val_X`"
      ],
      "text/plain": [
       "Check: When you've updated the starter code, `check()` will tell you whether your code is correct. You need to update the code that creates variables `val_predictions`, `iowa_model`, `val_X`"
      ]
     },
     "metadata": {},
     "output_type": "display_data"
    }
   ],
   "source": [
    "# Predict with all validation observations\n",
    "val_predictions = ____\n",
    "\n",
    "# Check your answer\n",
    "step_3.check()"
   ]
  },
  {
   "cell_type": "code",
   "execution_count": 7,
   "id": "23fbb14b",
   "metadata": {
    "execution": {
     "iopub.execute_input": "2023-05-20T16:06:24.530722Z",
     "iopub.status.busy": "2023-05-20T16:06:24.530306Z",
     "iopub.status.idle": "2023-05-20T16:06:24.534856Z",
     "shell.execute_reply": "2023-05-20T16:06:24.533715Z"
    },
    "papermill": {
     "duration": 0.014832,
     "end_time": "2023-05-20T16:06:24.537035",
     "exception": false,
     "start_time": "2023-05-20T16:06:24.522203",
     "status": "completed"
    },
    "tags": []
   },
   "outputs": [],
   "source": [
    "# step_3.hint()\n",
    "# step_3.solution()"
   ]
  },
  {
   "cell_type": "markdown",
   "id": "c158f83f",
   "metadata": {
    "papermill": {
     "duration": 0.006641,
     "end_time": "2023-05-20T16:06:24.550552",
     "exception": false,
     "start_time": "2023-05-20T16:06:24.543911",
     "status": "completed"
    },
    "tags": []
   },
   "source": [
    "Inspect your predictions and actual values from validation data."
   ]
  },
  {
   "cell_type": "code",
   "execution_count": 8,
   "id": "2a2e3358",
   "metadata": {
    "execution": {
     "iopub.execute_input": "2023-05-20T16:06:24.565822Z",
     "iopub.status.busy": "2023-05-20T16:06:24.565464Z",
     "iopub.status.idle": "2023-05-20T16:06:24.570620Z",
     "shell.execute_reply": "2023-05-20T16:06:24.569613Z"
    },
    "papermill": {
     "duration": 0.015804,
     "end_time": "2023-05-20T16:06:24.573133",
     "exception": false,
     "start_time": "2023-05-20T16:06:24.557329",
     "status": "completed"
    },
    "tags": []
   },
   "outputs": [
    {
     "name": "stdout",
     "output_type": "stream",
     "text": [
      "<learntools.core.constants.PlaceholderValue object at 0x7931681e6710>\n",
      "<learntools.core.constants.PlaceholderValue object at 0x7931681e6710>\n"
     ]
    }
   ],
   "source": [
    "# print the top few validation predictions\n",
    "print(____)\n",
    "# print the top few actual prices from validation data\n",
    "print(____)"
   ]
  },
  {
   "cell_type": "markdown",
   "id": "53b3bc98",
   "metadata": {
    "papermill": {
     "duration": 0.006654,
     "end_time": "2023-05-20T16:06:24.586593",
     "exception": false,
     "start_time": "2023-05-20T16:06:24.579939",
     "status": "completed"
    },
    "tags": []
   },
   "source": [
    "What do you notice that is different from what you saw with in-sample predictions (which are printed after the top code cell in this page).\n",
    "\n",
    "Do you remember why validation predictions differ from in-sample (or training) predictions? This is an important idea from the last lesson.\n",
    "\n",
    "## Step 4: Calculate the Mean Absolute Error in Validation Data\n"
   ]
  },
  {
   "cell_type": "code",
   "execution_count": 9,
   "id": "b69b52c8",
   "metadata": {
    "execution": {
     "iopub.execute_input": "2023-05-20T16:06:24.602616Z",
     "iopub.status.busy": "2023-05-20T16:06:24.602221Z",
     "iopub.status.idle": "2023-05-20T16:06:24.610103Z",
     "shell.execute_reply": "2023-05-20T16:06:24.609292Z"
    },
    "papermill": {
     "duration": 0.0185,
     "end_time": "2023-05-20T16:06:24.612190",
     "exception": false,
     "start_time": "2023-05-20T16:06:24.593690",
     "status": "completed"
    },
    "tags": []
   },
   "outputs": [
    {
     "data": {
      "application/javascript": [
       "parent.postMessage({\"jupyterEvent\": \"custom.exercise_interaction\", \"data\": {\"outcomeType\": 4, \"interactionType\": 1, \"questionType\": 1, \"questionId\": \"4_MAE\", \"learnToolsVersion\": \"0.3.4\", \"valueTowardsCompletion\": 0.0, \"failureMessage\": \"\", \"exceptionClass\": \"\", \"trace\": \"\"}}, \"*\")"
      ],
      "text/plain": [
       "<IPython.core.display.Javascript object>"
      ]
     },
     "metadata": {},
     "output_type": "display_data"
    },
    {
     "data": {
      "text/markdown": [
       "<span style=\"color:#ccaa33\">Check:</span> When you've updated the starter code, `check()` will tell you whether your code is correct. You need to update the code that creates variable `val_mae`"
      ],
      "text/plain": [
       "Check: When you've updated the starter code, `check()` will tell you whether your code is correct. You need to update the code that creates variable `val_mae`"
      ]
     },
     "metadata": {},
     "output_type": "display_data"
    }
   ],
   "source": [
    "from sklearn.metrics import mean_absolute_error\n",
    "val_mae = ____\n",
    "\n",
    "# uncomment following line to see the validation_mae\n",
    "#print(val_mae)\n",
    "\n",
    "# Check your answer\n",
    "step_4.check()"
   ]
  },
  {
   "cell_type": "code",
   "execution_count": 10,
   "id": "c0e9d005",
   "metadata": {
    "execution": {
     "iopub.execute_input": "2023-05-20T16:06:24.628659Z",
     "iopub.status.busy": "2023-05-20T16:06:24.628311Z",
     "iopub.status.idle": "2023-05-20T16:06:24.631914Z",
     "shell.execute_reply": "2023-05-20T16:06:24.631128Z"
    },
    "papermill": {
     "duration": 0.014282,
     "end_time": "2023-05-20T16:06:24.633839",
     "exception": false,
     "start_time": "2023-05-20T16:06:24.619557",
     "status": "completed"
    },
    "tags": []
   },
   "outputs": [],
   "source": [
    "# step_4.hint()\n",
    "# step_4.solution()"
   ]
  },
  {
   "cell_type": "markdown",
   "id": "8f03d6fa",
   "metadata": {
    "papermill": {
     "duration": 0.006932,
     "end_time": "2023-05-20T16:06:24.648043",
     "exception": false,
     "start_time": "2023-05-20T16:06:24.641111",
     "status": "completed"
    },
    "tags": []
   },
   "source": [
    "Is that MAE good?  There isn't a general rule for what values are good that applies across applications. But you'll see how to use (and improve) this number in the next step.\n",
    "\n",
    "# Keep Going\n",
    "\n",
    "You are ready for **[Underfitting and Overfitting](https://www.kaggle.com/dansbecker/underfitting-and-overfitting).**\n"
   ]
  },
  {
   "cell_type": "markdown",
   "id": "d5c0a912",
   "metadata": {
    "papermill": {
     "duration": 0.006892,
     "end_time": "2023-05-20T16:06:24.662278",
     "exception": false,
     "start_time": "2023-05-20T16:06:24.655386",
     "status": "completed"
    },
    "tags": []
   },
   "source": [
    "---\n",
    "\n",
    "\n",
    "\n",
    "\n",
    "*Have questions or comments? Visit the [course discussion forum](https://www.kaggle.com/learn/intro-to-machine-learning/discussion) to chat with other learners.*"
   ]
  }
 ],
 "metadata": {
  "kernelspec": {
   "display_name": "Python 3",
   "language": "python",
   "name": "python3"
  },
  "language_info": {
   "codemirror_mode": {
    "name": "ipython",
    "version": 3
   },
   "file_extension": ".py",
   "mimetype": "text/x-python",
   "name": "python",
   "nbconvert_exporter": "python",
   "pygments_lexer": "ipython3",
   "version": "3.10.10"
  },
  "papermill": {
   "default_parameters": {},
   "duration": 14.631261,
   "end_time": "2023-05-20T16:06:25.590372",
   "environment_variables": {},
   "exception": null,
   "input_path": "__notebook__.ipynb",
   "output_path": "__notebook__.ipynb",
   "parameters": {},
   "start_time": "2023-05-20T16:06:10.959111",
   "version": "2.4.0"
  }
 },
 "nbformat": 4,
 "nbformat_minor": 5
}
