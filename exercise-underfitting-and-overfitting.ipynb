{
 "cells": [
  {
   "cell_type": "markdown",
   "id": "6bfa7a6f",
   "metadata": {
    "papermill": {
     "duration": 0.00481,
     "end_time": "2023-05-20T17:07:22.250877",
     "exception": false,
     "start_time": "2023-05-20T17:07:22.246067",
     "status": "completed"
    },
    "tags": []
   },
   "source": [
    "**This notebook is an exercise in the [Introduction to Machine Learning](https://www.kaggle.com/learn/intro-to-machine-learning) course.  You can reference the tutorial at [this link](https://www.kaggle.com/dansbecker/underfitting-and-overfitting).**\n",
    "\n",
    "---\n"
   ]
  },
  {
   "cell_type": "markdown",
   "id": "2403d4da",
   "metadata": {
    "papermill": {
     "duration": 0.004584,
     "end_time": "2023-05-20T17:07:22.260104",
     "exception": false,
     "start_time": "2023-05-20T17:07:22.255520",
     "status": "completed"
    },
    "tags": []
   },
   "source": [
    "## Recap\n",
    "You've built your first model, and now it's time to optimize the size of the tree to make better predictions. Run this cell to set up your coding environment where the previous step left off."
   ]
  },
  {
   "cell_type": "code",
   "execution_count": 1,
   "id": "e832efeb",
   "metadata": {
    "execution": {
     "iopub.execute_input": "2023-05-20T17:07:22.270781Z",
     "iopub.status.busy": "2023-05-20T17:07:22.270372Z",
     "iopub.status.idle": "2023-05-20T17:07:24.074577Z",
     "shell.execute_reply": "2023-05-20T17:07:24.073281Z"
    },
    "papermill": {
     "duration": 1.812612,
     "end_time": "2023-05-20T17:07:24.077199",
     "exception": false,
     "start_time": "2023-05-20T17:07:22.264587",
     "status": "completed"
    },
    "tags": []
   },
   "outputs": [
    {
     "name": "stderr",
     "output_type": "stream",
     "text": [
      "/opt/conda/lib/python3.10/site-packages/scipy/__init__.py:146: UserWarning: A NumPy version >=1.16.5 and <1.23.0 is required for this version of SciPy (detected version 1.23.5\n",
      "  warnings.warn(f\"A NumPy version >={np_minversion} and <{np_maxversion}\"\n"
     ]
    },
    {
     "name": "stdout",
     "output_type": "stream",
     "text": [
      "Validation MAE: 29,653\n",
      "\n",
      "Setup complete\n"
     ]
    }
   ],
   "source": [
    "# Code you have previously used to load data\n",
    "import pandas as pd\n",
    "from sklearn.metrics import mean_absolute_error\n",
    "from sklearn.model_selection import train_test_split\n",
    "from sklearn.tree import DecisionTreeRegressor\n",
    "\n",
    "\n",
    "# Path of the file to read\n",
    "iowa_file_path = '../input/home-data-for-ml-course/train.csv'\n",
    "\n",
    "home_data = pd.read_csv(iowa_file_path)\n",
    "# Create target object and call it y\n",
    "y = home_data.SalePrice\n",
    "# Create X\n",
    "features = ['LotArea', 'YearBuilt', '1stFlrSF', '2ndFlrSF', 'FullBath', 'BedroomAbvGr', 'TotRmsAbvGrd']\n",
    "X = home_data[features]\n",
    "\n",
    "# Split into validation and training data\n",
    "train_X, val_X, train_y, val_y = train_test_split(X, y, random_state=1)\n",
    "\n",
    "# Specify Model\n",
    "iowa_model = DecisionTreeRegressor(random_state=1)\n",
    "# Fit Model\n",
    "iowa_model.fit(train_X, train_y)\n",
    "\n",
    "# Make validation predictions and calculate mean absolute error\n",
    "val_predictions = iowa_model.predict(val_X)\n",
    "val_mae = mean_absolute_error(val_predictions, val_y)\n",
    "print(\"Validation MAE: {:,.0f}\".format(val_mae))\n",
    "\n",
    "# Set up code checking\n",
    "from learntools.core import binder\n",
    "binder.bind(globals())\n",
    "from learntools.machine_learning.ex5 import *\n",
    "print(\"\\nSetup complete\")"
   ]
  },
  {
   "cell_type": "markdown",
   "id": "7b3c4c37",
   "metadata": {
    "papermill": {
     "duration": 0.004432,
     "end_time": "2023-05-20T17:07:24.086303",
     "exception": false,
     "start_time": "2023-05-20T17:07:24.081871",
     "status": "completed"
    },
    "tags": []
   },
   "source": [
    "# Exercises\n",
    "You could write the function `get_mae` yourself. For now, we'll supply it. This is the same function you read about in the previous lesson. Just run the cell below."
   ]
  },
  {
   "cell_type": "code",
   "execution_count": 2,
   "id": "dda55cb6",
   "metadata": {
    "execution": {
     "iopub.execute_input": "2023-05-20T17:07:24.098165Z",
     "iopub.status.busy": "2023-05-20T17:07:24.097767Z",
     "iopub.status.idle": "2023-05-20T17:07:24.106553Z",
     "shell.execute_reply": "2023-05-20T17:07:24.105202Z"
    },
    "papermill": {
     "duration": 0.017859,
     "end_time": "2023-05-20T17:07:24.109410",
     "exception": false,
     "start_time": "2023-05-20T17:07:24.091551",
     "status": "completed"
    },
    "tags": []
   },
   "outputs": [],
   "source": [
    "def get_mae(max_leaf_nodes, train_X, val_X, train_y, val_y):\n",
    "    model = DecisionTreeRegressor(max_leaf_nodes=max_leaf_nodes, random_state=0)\n",
    "    model.fit(train_X, train_y)\n",
    "    preds_val = model.predict(val_X)\n",
    "    mae = mean_absolute_error(val_y, preds_val)\n",
    "    return(mae)"
   ]
  },
  {
   "cell_type": "markdown",
   "id": "267ee8b7",
   "metadata": {
    "papermill": {
     "duration": 0.004334,
     "end_time": "2023-05-20T17:07:24.118414",
     "exception": false,
     "start_time": "2023-05-20T17:07:24.114080",
     "status": "completed"
    },
    "tags": []
   },
   "source": [
    "## Step 1: Compare Different Tree Sizes\n",
    "Write a loop that tries the following values for *max_leaf_nodes* from a set of possible values.\n",
    "\n",
    "Call the *get_mae* function on each value of max_leaf_nodes. Store the output in some way that allows you to select the value of `max_leaf_nodes` that gives the most accurate model on your data."
   ]
  },
  {
   "cell_type": "code",
   "execution_count": 3,
   "id": "0c777279",
   "metadata": {
    "execution": {
     "iopub.execute_input": "2023-05-20T17:07:24.129612Z",
     "iopub.status.busy": "2023-05-20T17:07:24.129191Z",
     "iopub.status.idle": "2023-05-20T17:07:24.183250Z",
     "shell.execute_reply": "2023-05-20T17:07:24.182074Z"
    },
    "papermill": {
     "duration": 0.062893,
     "end_time": "2023-05-20T17:07:24.185884",
     "exception": false,
     "start_time": "2023-05-20T17:07:24.122991",
     "status": "completed"
    },
    "tags": []
   },
   "outputs": [
    {
     "data": {
      "application/javascript": [
       "parent.postMessage({\"jupyterEvent\": \"custom.exercise_interaction\", \"data\": {\"outcomeType\": 1, \"valueTowardsCompletion\": 0.5, \"interactionType\": 1, \"questionType\": 1, \"questionId\": \"1_BestTreeSize\", \"learnToolsVersion\": \"0.3.4\", \"failureMessage\": \"\", \"exceptionClass\": \"\", \"trace\": \"\"}}, \"*\")"
      ],
      "text/plain": [
       "<IPython.core.display.Javascript object>"
      ]
     },
     "metadata": {},
     "output_type": "display_data"
    },
    {
     "data": {
      "text/markdown": [
       "<span style=\"color:#33cc33\">Correct</span>"
      ],
      "text/plain": [
       "Correct"
      ]
     },
     "metadata": {},
     "output_type": "display_data"
    }
   ],
   "source": [
    "candidate_max_leaf_nodes = [5, 25, 50, 100, 250, 500]\n",
    "# Write loop to find the ideal tree size from candidate_max_leaf_nodes\n",
    "best_mae = float('inf')\n",
    "\n",
    "\n",
    "# Store the best value of max_leaf_nodes (it will be either 5, 25, 50, 100, 250 or 500)\n",
    "best_tree_size = None\n",
    "for max_leaf_nodes in candidate_max_leaf_nodes:\n",
    "    current_mae = get_mae(max_leaf_nodes, train_X, val_X, train_y, val_y)\n",
    "    if current_mae < best_mae:\n",
    "        best_mae = current_mae\n",
    "        best_tree_size = max_leaf_nodes\n",
    "        \n",
    "\n",
    "# Check your answer\n",
    "step_1.check()"
   ]
  },
  {
   "cell_type": "code",
   "execution_count": 4,
   "id": "040e6287",
   "metadata": {
    "execution": {
     "iopub.execute_input": "2023-05-20T17:07:24.198188Z",
     "iopub.status.busy": "2023-05-20T17:07:24.197154Z",
     "iopub.status.idle": "2023-05-20T17:07:24.202847Z",
     "shell.execute_reply": "2023-05-20T17:07:24.201671Z"
    },
    "papermill": {
     "duration": 0.01443,
     "end_time": "2023-05-20T17:07:24.205332",
     "exception": false,
     "start_time": "2023-05-20T17:07:24.190902",
     "status": "completed"
    },
    "tags": []
   },
   "outputs": [],
   "source": [
    "# The lines below will show you a hint or the solution.\n",
    "# step_1.hint() \n",
    "# step_1.solution()"
   ]
  },
  {
   "cell_type": "markdown",
   "id": "8ed24f1b",
   "metadata": {
    "papermill": {
     "duration": 0.004672,
     "end_time": "2023-05-20T17:07:24.215147",
     "exception": false,
     "start_time": "2023-05-20T17:07:24.210475",
     "status": "completed"
    },
    "tags": []
   },
   "source": [
    "## Step 2: Fit Model Using All Data\n",
    "You know the best tree size. If you were going to deploy this model in practice, you would make it even more accurate by using all of the data and keeping that tree size.  That is, you don't need to hold out the validation data now that you've made all your modeling decisions."
   ]
  },
  {
   "cell_type": "code",
   "execution_count": 5,
   "id": "3aec0d6c",
   "metadata": {
    "execution": {
     "iopub.execute_input": "2023-05-20T17:07:24.227053Z",
     "iopub.status.busy": "2023-05-20T17:07:24.226620Z",
     "iopub.status.idle": "2023-05-20T17:07:24.244459Z",
     "shell.execute_reply": "2023-05-20T17:07:24.243346Z"
    },
    "papermill": {
     "duration": 0.026831,
     "end_time": "2023-05-20T17:07:24.246984",
     "exception": false,
     "start_time": "2023-05-20T17:07:24.220153",
     "status": "completed"
    },
    "tags": []
   },
   "outputs": [
    {
     "data": {
      "application/javascript": [
       "parent.postMessage({\"jupyterEvent\": \"custom.exercise_interaction\", \"data\": {\"outcomeType\": 1, \"valueTowardsCompletion\": 0.5, \"interactionType\": 1, \"questionType\": 2, \"questionId\": \"2_FitModelWithAllData\", \"learnToolsVersion\": \"0.3.4\", \"failureMessage\": \"\", \"exceptionClass\": \"\", \"trace\": \"\"}}, \"*\")"
      ],
      "text/plain": [
       "<IPython.core.display.Javascript object>"
      ]
     },
     "metadata": {},
     "output_type": "display_data"
    },
    {
     "data": {
      "text/markdown": [
       "<span style=\"color:#33cc33\">Correct</span>"
      ],
      "text/plain": [
       "Correct"
      ]
     },
     "metadata": {},
     "output_type": "display_data"
    }
   ],
   "source": [
    "# Fill in argument to make optimal size and uncomment\n",
    "final_model = DecisionTreeRegressor(max_leaf_nodes=best_tree_size)\n",
    "\n",
    "# fit the final model and uncomment the next two lines\n",
    "final_model.fit(X, y)\n",
    "\n",
    "# Check your answer\n",
    "step_2.check()"
   ]
  },
  {
   "cell_type": "code",
   "execution_count": 6,
   "id": "b15e8048",
   "metadata": {
    "execution": {
     "iopub.execute_input": "2023-05-20T17:07:24.260430Z",
     "iopub.status.busy": "2023-05-20T17:07:24.260016Z",
     "iopub.status.idle": "2023-05-20T17:07:24.264622Z",
     "shell.execute_reply": "2023-05-20T17:07:24.263437Z"
    },
    "papermill": {
     "duration": 0.014057,
     "end_time": "2023-05-20T17:07:24.266798",
     "exception": false,
     "start_time": "2023-05-20T17:07:24.252741",
     "status": "completed"
    },
    "tags": []
   },
   "outputs": [],
   "source": [
    "# step_2.hint()\n",
    "# step_2.solution()"
   ]
  },
  {
   "cell_type": "markdown",
   "id": "a22772b6",
   "metadata": {
    "papermill": {
     "duration": 0.005049,
     "end_time": "2023-05-20T17:07:24.277284",
     "exception": false,
     "start_time": "2023-05-20T17:07:24.272235",
     "status": "completed"
    },
    "tags": []
   },
   "source": [
    "You've tuned this model and improved your results. But we are still using Decision Tree models, which are not very sophisticated by modern machine learning standards. In the next step you will learn to use Random Forests to improve your models even more.\n",
    "\n",
    "# Keep Going\n",
    "\n",
    "You are ready for **[Random Forests](https://www.kaggle.com/dansbecker/random-forests).**\n"
   ]
  },
  {
   "cell_type": "markdown",
   "id": "bd38b24f",
   "metadata": {
    "papermill": {
     "duration": 0.005188,
     "end_time": "2023-05-20T17:07:24.287680",
     "exception": false,
     "start_time": "2023-05-20T17:07:24.282492",
     "status": "completed"
    },
    "tags": []
   },
   "source": [
    "---\n",
    "\n",
    "\n",
    "\n",
    "\n",
    "*Have questions or comments? Visit the [course discussion forum](https://www.kaggle.com/learn/intro-to-machine-learning/discussion) to chat with other learners.*"
   ]
  }
 ],
 "metadata": {
  "kernelspec": {
   "display_name": "Python 3",
   "language": "python",
   "name": "python3"
  },
  "language_info": {
   "codemirror_mode": {
    "name": "ipython",
    "version": 3
   },
   "file_extension": ".py",
   "mimetype": "text/x-python",
   "name": "python",
   "nbconvert_exporter": "python",
   "pygments_lexer": "ipython3",
   "version": "3.10.10"
  },
  "papermill": {
   "default_parameters": {},
   "duration": 16.446063,
   "end_time": "2023-05-20T17:07:25.315998",
   "environment_variables": {},
   "exception": null,
   "input_path": "__notebook__.ipynb",
   "output_path": "__notebook__.ipynb",
   "parameters": {},
   "start_time": "2023-05-20T17:07:08.869935",
   "version": "2.4.0"
  }
 },
 "nbformat": 4,
 "nbformat_minor": 5
}
